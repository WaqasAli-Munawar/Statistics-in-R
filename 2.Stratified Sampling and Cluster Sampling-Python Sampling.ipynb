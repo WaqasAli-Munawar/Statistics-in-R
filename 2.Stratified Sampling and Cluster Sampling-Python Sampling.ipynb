{
 "cells": [
  {
   "cell_type": "markdown",
   "metadata": {},
   "source": [
    "**Task**\n",
    "\n",
    "* Update the `wnba` dataframe to create a new column `pts_game` that describes the number of points a player scored per game played during the season.\n",
    "\n",
    "* Stratify the `wnba` data set by player position.\n",
    "* Randomly sample 10 observations for each player position.\n",
    "* Estimate the average number of points per season as `mean_pts_season`.\n",
    "* Estimate the average number of points per game as `mean_pts_game`.\n",
    "* `arrange()` by player position so that results are displayed in alphabetical order"
   ]
  },
  {
   "cell_type": "markdown",
   "metadata": {},
   "source": [
    "**Answer**\n",
    "\n",
    "`set.seed(1)`\n",
    "\n",
    "`wnba <- wnba %>%\n",
    "  mutate(pts_game = PTS/Games_Played)`\n",
    "\n",
    "`total_points_estimates <- wnba %>%\n",
    "  group_by(Pos) %>%\n",
    "  sample_n(10) %>% \n",
    "  summarise(mean_pts_season = mean(PTS),\n",
    "            mean_pts_game = mean(pts_game)) %>% \n",
    "  arrange(Pos)`"
   ]
  },
  {
   "attachments": {
    "image.png": {
     "image/png": "[encoded data removed]"
    }
   },
   "cell_type": "markdown",
   "metadata": {},
   "source": [
    "![image.png](attachment:image.png)\n",
    "\n",
    "The range between the minimum and maximum is 30 games played. How would the distribition of points look we stratified the players into three bins spanning approximately 10 games played? Calling the [base R function `cut()`](https://stat.ethz.ch/R-manual/R-devel/library/base/html/cut.html) inside a `mutate()` function call is one method of establishing these strata. The `breaks` argument specifies how many intervals we want to split our data into."
   ]
  },
  {
   "attachments": {
    "image.png": {
     "image/png": "[encoded data removed]"
    }
   },
   "cell_type": "markdown",
   "metadata": {},
   "source": [
    "`wnba %>% \n",
    "  mutate(games_stratum = cut(Games_Played, breaks = 3)) %>%\n",
    "  group_by(games_stratum) %>% \n",
    "  summarize(n = n()) %>% \n",
    "  mutate(percentage = n / sum(n) * 100) %>% \n",
    "  arrange(desc(percentage))`\n",
    "  \n",
    "![image.png](attachment:image.png)"
   ]
  },
  {
   "cell_type": "markdown",
   "metadata": {},
   "source": [
    "**Task**\n",
    "\n",
    "* Establish three strata for `Games_Played` and sample randomly from each strata using the specific proportion defined for each stratum. Combine the results of the random samples from each stratum and calculate the mean points scored per season for the combined group of random samples.\n",
    "\n",
    "**Answer**\n",
    "\n",
    "`set.seed(1)`\n",
    "\n",
    "`under_12 <- wnba %>% \n",
    "  filter(Games_Played <= 12) %>% \n",
    "  sample_n(1)`\n",
    "  \n",
    "`btw_13_22 <- wnba %>% \n",
    "  filter(Games_Played > 12 & Games_Played <= 22) %>% \n",
    "  sample_n(2)`\n",
    "  \n",
    "`over_22 <- wnba %>% \n",
    "  filter(Games_Played > 22) %>% \n",
    "  sample_n(7)`\n",
    "\n",
    "`combined <- bind_rows(under_12, btw_13_22, over_22)`\n",
    "\n",
    "`mean(combined$PTS)`"
   ]
  },
  {
   "cell_type": "markdown",
   "metadata": {},
   "source": [
    "**Task**\n",
    "\n",
    "* Make a function of above\n",
    "\n",
    "**Answer**\n",
    "\n",
    "`sample_mean <- function(x){`\n",
    "`under_12 <- wnba %>% \n",
    "filter(Games_Played <= 12) %>% \n",
    "sample_n(1)`\n",
    "\n",
    "`btw_13_22 <- wnba %>% \n",
    "filter(Games_Played > 12 & Games_Played <= 22) %>% \n",
    "sample_n(2)`\n",
    "\n",
    "`over_22 <- wnba %>%\n",
    "filter(Games_Played > 22) %>% \n",
    "sample_n(7)`\n",
    "\n",
    "`combined <- bind_rows(under_12, btw_13_22, over_22)`\n",
    "\n",
    "`mean(combined$PTS)`\n",
    "\n",
    "`}`"
   ]
  },
  {
   "cell_type": "markdown",
   "metadata": {},
   "source": [
    "**Task**\n",
    "\n",
    "Build a scatterplot of 100 proportional stratified random samples.\n",
    "\n",
    "**Answer**\n",
    "\n",
    "`library(purrr)\n",
    "library(tibble)\n",
    "library(ggplot2)`\n",
    "\n",
    "`set.seed(1)`\n",
    "\n",
    "`sample_number <- 1:100`\n",
    "\n",
    "`mean_points_season <- map_dbl(sample_number, sample_mean)` # `map_dbl()` to iterate over the       \n",
    "                                                              sample_number vector and with the \n",
    "                                                              sample_mean() function.\n",
    "                                                              \n",
    "`df <- tibble(sample_number, mean_points_season)`           # Generate a dataframe called `df` that  \n",
    "                                                             contains the sample_number and\n",
    "                                                             mean_points_season vectors.\n",
    "                                                             \n",
    "`ggplot(data = df) + \n",
    "    aes(x = sample_number, y = mean_points_season) + geom_point() +geom_hline(yintercept = mean(wnba$PTS), color = \"blue\") + ylim(80, 320)`"
   ]
  },
  {
   "cell_type": "markdown",
   "metadata": {},
   "source": [
    "We have been working with the `sample_n()` function from `dplyr` because it returns randomly sampled rows from a dataframe. This can be useful when we are interested in analyzing more than one variable from a random sample. The `dplyr` package also offers the `sample_frac()` function that returns a dataframe of randomly sampled rows. Instead of sampling a specified number of rows, `sample_frac()` randomly samples a specified fraction or proportion of rows. For example, if we wanted to randomly sample a quarter, or 25%, of all WNBA players who played more than 22 games in a season, we would input:\n",
    "\n",
    "`over_22 <- wnba %>% \n",
    "  filter(Games_Played > 22) %>% \n",
    "  sample_frac(0.25)`"
   ]
  },
  {
   "cell_type": "markdown",
   "metadata": {},
   "source": [
    "`sample_frac()` is useful with proportional **stratified random sampling** because we do not need to calculate the number of samples to perform on each individual stratum! We only need to specify the fraction of the population that we would like to sample, and `sample_frac()` will return the number of rows for each stratum that is proportional to their share of the population."
   ]
  },
  {
   "cell_type": "markdown",
   "metadata": {},
   "source": [
    "**Task**\n",
    "\n",
    "Build a scatterplot of 100 proportional stratified random samples.\n",
    "\n",
    "**Answer**\n",
    "\n",
    "`set.seed(1)`\n",
    "\n",
    "`sample_mean <- function(x) {`\n",
    "  `sample <- wnba %>% \n",
    "  group_by(games_stratum) %>% \n",
    "  sample_frac(.07)`\n",
    "\n",
    "  `mean(sample$PTS)`\n",
    "`}`\n",
    "\n",
    "`sample_number <- 1:100`\n",
    "\n",
    "`mean_points_season <- map_dbl(sample_number, sample_mean)`\n",
    "\n",
    "`df <- tibble(sample_number, mean_points_season)`\n",
    "\n",
    "`ggplot(data = df) + \n",
    "    aes(x = sample_number, y = mean_points_season) +\n",
    "    geom_point() +\n",
    "    geom_hline(yintercept = mean(wnba$PTS), color = \"blue\") +\n",
    "    ylim(80, 320)`"
   ]
  },
  {
   "cell_type": "markdown",
   "metadata": {},
   "source": [
    "The results using `sample_frac()` are identical to our approach with `sample_n()`"
   ]
  },
  {
   "cell_type": "markdown",
   "metadata": {},
   "source": [
    "**Task**\n",
    "\n",
    "Simulate cluster sampling on `Team` Column\n",
    "\n",
    "**Answer**\n",
    "\n",
    "`set.seed(10)`\n",
    "\n",
    "`clusters <-  unique(wnba$Team) %>% sample(size = 4)`\n",
    "\n",
    "`sample <- wnba %>% filter(Team %in% clusters)` # filter the wnba dataframe for all teams in the cluster with `%in%`\n",
    "\n",
    "`sampling_error_height <- mean(wnba$Height) - mean(sample$Height)`\n",
    "`sampling_error_age <- mean(wnba$Age) - mean(sample$Age)`\n",
    "`sampling_error_games <- mean(wnba$Games_Played) - mean(sample$Games_Played)`\n",
    "`sampling_error_points <- mean(wnba$PTS) - mean(sample$PTS)`"
   ]
  },
  {
   "cell_type": "code",
   "execution_count": null,
   "metadata": {},
   "outputs": [],
   "source": []
  }
 ],
 "metadata": {
  "kernelspec": {
   "display_name": "Python 3",
   "language": "python",
   "name": "python3"
  },
  "language_info": {
   "codemirror_mode": {
    "name": "ipython",
    "version": 3
   },
   "file_extension": ".py",
   "mimetype": "text/x-python",
   "name": "python",
   "nbconvert_exporter": "python",
   "pygments_lexer": "ipython3",
   "version": "3.7.6"
  }
 },
 "nbformat": 4,
 "nbformat_minor": 4
}
